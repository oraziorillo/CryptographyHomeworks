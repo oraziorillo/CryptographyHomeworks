{
 "cells": [
  {
   "cell_type": "code",
   "execution_count": 32,
   "metadata": {},
   "outputs": [],
   "source": [
    "import hashlib\n",
    "from helpers import get_input_init_str"
   ]
  },
  {
   "cell_type": "code",
   "execution_count": 2,
   "metadata": {},
   "outputs": [],
   "source": [
    "def factorize(N, N_i_list):\n",
    "    factors = []\n",
    "    for ni in N_i_list:\n",
    "        div = gcd(N, ni)\n",
    "        if div > 1:\n",
    "            factors.append(div)\n",
    "    return factors"
   ]
  },
  {
   "cell_type": "code",
   "execution_count": 8,
   "metadata": {},
   "outputs": [],
   "source": [
    "def phi(N):\n",
    "    ''' This function computes phi(N) where N is the product of 3 prime numbers: p, q and r.\n",
    "    \n",
    "    Parameters\n",
    "    ----------\n",
    "    N : list\n",
    "        list of the three prime factors of N\n",
    "        \n",
    "    Returns\n",
    "    -------\n",
    "    int\n",
    "        phi(N)\n",
    "    '''\n",
    "    return (N[0]-1)*(N[1]-1)*(N[2]-1)"
   ]
  },
  {
   "cell_type": "code",
   "execution_count": 9,
   "metadata": {},
   "outputs": [],
   "source": [
    "filename = \"test_params/123-params.txt\"\n",
    "\n",
    "input_init_str = get_input_init_str(filename, 1)\n",
    "exec(input_init_str)"
   ]
  },
  {
   "cell_type": "code",
   "execution_count": 28,
   "metadata": {},
   "outputs": [],
   "source": [
    "tmp = Q1_N\n",
    "\n",
    "N_factorized = factorize(Q1_N, Q1_L_mod)\n",
    "for f in N_factorized:\n",
    "    tmp /= f\n",
    "    \n",
    "# Try to find faulted decrypted ciphertext i.e a pair (pt, dec_ct) \n",
    "# in which the plaintext pt is different from the decrypted ciphertext dec_ct\n",
    "faulted_pairs = list(filter(lambda x: x[0] != x[1], Q1_L_x))\n",
    "\n",
    "for fp in faulted_pairs:\n",
    "    correct_pt = fp[0]\n",
    "    wrong_pt = fp[1]\n",
    "\n",
    "    f = gcd(correct_pt - wrong_pt, tmp)\n",
    "    if f != 1:\n",
    "        N_factorized.append(f)\n",
    "        tmp /= f\n",
    "\n",
    "N_factorized.append(tmp)"
   ]
  },
  {
   "cell_type": "code",
   "execution_count": 91,
   "metadata": {},
   "outputs": [
    {
     "data": {
      "text/plain": [
       "True"
      ]
     },
     "execution_count": 91,
     "metadata": {},
     "output_type": "execute_result"
    }
   ],
   "source": [
    "N_factorized[0]*N_factorized[1]*N_factorized[2] == Q1_N"
   ]
  },
  {
   "cell_type": "code",
   "execution_count": 92,
   "metadata": {},
   "outputs": [],
   "source": [
    "sk = inverse_mod(Q1_e, phi(N_factorized))\n",
    "x = power_mod(Q1_ct_RSA, sk, Q1_N)\n",
    "key = hashlib.sha512(str(x).encode('ascii')).digest()\n",
    "\n",
    "pt = ''\n",
    "for (a, b) in zip(key, Q1_ct_pwd):\n",
    "    pt += chr(a ^^ b)"
   ]
  },
  {
   "cell_type": "code",
   "execution_count": 93,
   "metadata": {},
   "outputs": [
    {
     "data": {
      "text/plain": [
       "'trashy38'"
      ]
     },
     "execution_count": 93,
     "metadata": {},
     "output_type": "execute_result"
    }
   ],
   "source": [
    "pt"
   ]
  }
 ],
 "metadata": {
  "kernelspec": {
   "display_name": "SageMath 9.2",
   "language": "sage",
   "name": "sagemath"
  },
  "language_info": {
   "codemirror_mode": {
    "name": "ipython",
    "version": 3
   },
   "file_extension": ".py",
   "mimetype": "text/x-python",
   "name": "python",
   "nbconvert_exporter": "python",
   "pygments_lexer": "ipython3",
   "version": "3.8.6"
  }
 },
 "nbformat": 4,
 "nbformat_minor": 4
}
