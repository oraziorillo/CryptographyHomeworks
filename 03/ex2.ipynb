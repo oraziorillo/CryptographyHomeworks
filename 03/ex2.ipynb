{
 "cells": [
  {
   "cell_type": "code",
   "execution_count": 1,
   "metadata": {},
   "outputs": [],
   "source": [
    "import numpy as np\n",
    "from itertools import combinations\n",
    "from helpers import get_input_init_str"
   ]
  },
  {
   "cell_type": "code",
   "execution_count": 2,
   "metadata": {},
   "outputs": [],
   "source": [
    "# filename = \"test_params/123-params.txt\"\n",
    "filename = \"313423/313423-parameters.txt\""
   ]
  },
  {
   "cell_type": "code",
   "execution_count": 3,
   "metadata": {},
   "outputs": [
    {
     "name": "stdout",
     "output_type": "stream",
     "text": [
      "Reading: '313423/313423-parameters.txt'\n"
     ]
    }
   ],
   "source": [
    "# Initialize problem parameters\n",
    "input_init_str = get_input_init_str(filename, ex=2)\n",
    "exec(input_init_str)"
   ]
  },
  {
   "cell_type": "code",
   "execution_count": 4,
   "metadata": {},
   "outputs": [],
   "source": [
    "exponent_reps = {} # number of times each exponent has been used\n",
    "\n",
    "# Count the number of times each exponent has been used\n",
    "for mod, exp in Q2_G:\n",
    "    \n",
    "    # Increase the corrispondent entry of the dictionary\n",
    "    if exp not in exponent_reps.keys():\n",
    "        exponent_reps[exp] = 1\n",
    "    else:\n",
    "        exponent_reps[exp] += 1"
   ]
  },
  {
   "cell_type": "code",
   "execution_count": 5,
   "metadata": {},
   "outputs": [],
   "source": [
    "# Store exponents and respective repetitions in two lists\n",
    "exponents = []\n",
    "repetitions = []\n",
    "for key, val in exponent_reps.items():\n",
    "    exponents.append(key)\n",
    "    repetitions.append(val)"
   ]
  },
  {
   "cell_type": "code",
   "execution_count": 6,
   "metadata": {},
   "outputs": [],
   "source": [
    "most_pop_exp = exponents[np.argmax(repetitions)] # most used exponent"
   ]
  },
  {
   "cell_type": "code",
   "execution_count": 7,
   "metadata": {},
   "outputs": [],
   "source": [
    "# Store all the residues obtained taking the power of M to the most popular exponent\n",
    "# and the moduli\n",
    "residues = []\n",
    "moduli = []\n",
    "for idx, (mod, exp) in enumerate(Q2_G):\n",
    "    if exp == most_pop_exp:\n",
    "        residues.append(Q2_ciphertexts[idx])\n",
    "        moduli.append(mod)"
   ]
  },
  {
   "cell_type": "code",
   "execution_count": 8,
   "metadata": {},
   "outputs": [],
   "source": [
    "# Solve the system with the Chinese Remainder Theorem and then take the e-th root of the solution \n",
    "# where e is the most popular exponent\n",
    "msg = crt(residues, moduli) ** (1/most_pop_exp)"
   ]
  },
  {
   "cell_type": "code",
   "execution_count": 11,
   "metadata": {},
   "outputs": [
    {
     "data": {
      "text/plain": [
       "765437752811616840257042972"
      ]
     },
     "execution_count": 11,
     "metadata": {},
     "output_type": "execute_result"
    }
   ],
   "source": [
    "msg"
   ]
  }
 ],
 "metadata": {
  "kernelspec": {
   "display_name": "SageMath 9.2",
   "language": "sage",
   "name": "sagemath"
  },
  "language_info": {
   "codemirror_mode": {
    "name": "ipython",
    "version": 3
   },
   "file_extension": ".py",
   "mimetype": "text/x-python",
   "name": "python",
   "nbconvert_exporter": "python",
   "pygments_lexer": "ipython3",
   "version": "3.8.6"
  }
 },
 "nbformat": 4,
 "nbformat_minor": 4
}
