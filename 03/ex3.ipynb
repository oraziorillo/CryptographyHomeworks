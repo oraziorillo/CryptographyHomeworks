{
 "cells": [
  {
   "cell_type": "code",
   "execution_count": 1,
   "metadata": {},
   "outputs": [],
   "source": [
    "from helpers import get_input_init_str"
   ]
  },
  {
   "cell_type": "code",
   "execution_count": 2,
   "metadata": {},
   "outputs": [],
   "source": [
    "filename = \"test_params/123-params.txt\"\n",
    "\n",
    "input_init_str = get_input_init_str(filename, ex=3)\n",
    "exec(input_init_str)"
   ]
  },
  {
   "cell_type": "code",
   "execution_count": 3,
   "metadata": {},
   "outputs": [],
   "source": [
    "def cont_frac(num, den, i = None):\n",
    "    \n",
    "    a = num//den\n",
    "    seq = [a]\n",
    "    \n",
    "    if num%den == 0 or i == 0:\n",
    "        return seq\n",
    "    \n",
    "    num -= a*den\n",
    "    \n",
    "    if i == None:\n",
    "        seq += cont_frac(den, num)\n",
    "    else:\n",
    "        seq += cont_frac(den, num, i - 1)\n",
    "                         \n",
    "    return seq"
   ]
  },
  {
   "cell_type": "code",
   "execution_count": 4,
   "metadata": {},
   "outputs": [],
   "source": [
    "def sequence_to_frac(seq):\n",
    "    if len(seq) == 1:\n",
    "        return (seq[0], 1)\n",
    "    \n",
    "    num_a_succ, den_a_succ = sequence_to_frac(seq[1:])\n",
    "    n = seq[0] + den_a_succ/num_a_succ\n",
    "    return n.numerator(), n.denominator()"
   ]
  },
  {
   "cell_type": "code",
   "execution_count": 5,
   "metadata": {},
   "outputs": [],
   "source": [
    "def floor_sqrt(x) : \n",
    "  \n",
    "    # Base cases \n",
    "    if (x == 0 or x == 1) : \n",
    "        return x \n",
    "   \n",
    "    lower = 10**(len(str(x))//2 - 1) \n",
    "    upper = 10**(len(str(x))//2 + 1)\n",
    "    \n",
    "    while (lower <= upper) : \n",
    "        mid = (lower + upper) // 2\n",
    "          \n",
    "        # If x is a perfect square \n",
    "        if (mid*mid == x) : \n",
    "            return mid \n",
    "              \n",
    "        # Since we need floor, we update  \n",
    "        # answer when mid*mid is smaller \n",
    "        # than x, and move closer to sqrt(x) \n",
    "        if (mid * mid < x) : \n",
    "            lower = mid + 1\n",
    "            ans = mid \n",
    "              \n",
    "        else : \n",
    "              \n",
    "            # If mid*mid is greater than x \n",
    "            upper = mid-1\n",
    "              \n",
    "    return ans "
   ]
  },
  {
   "cell_type": "code",
   "execution_count": 6,
   "metadata": {},
   "outputs": [],
   "source": [
    "def find_factors(n, phi_n):\n",
    "    sum_p_q = n - phi_n + 1\n",
    "    if sum_p_q < 0:\n",
    "        return None\n",
    "    lower = floor_sqrt(n)\n",
    "    upper = floor_sqrt(2 * n)\n",
    "    while(lower <= upper):\n",
    "        q = (upper + lower) // 2\n",
    "        p = sum_p_q - q\n",
    "        if p * q == n:\n",
    "            return p, q\n",
    "        elif p * q > n: \n",
    "            if q < p:\n",
    "                upper = q - 1\n",
    "            else:\n",
    "                lower = q + 1\n",
    "        elif p * q < n:\n",
    "            if q < p:\n",
    "                lower = q + 1\n",
    "            else:\n",
    "                upper = q - 1\n",
    "    return None"
   ]
  },
  {
   "cell_type": "code",
   "execution_count": 7,
   "metadata": {},
   "outputs": [],
   "source": [
    "# Find the continued fraction expansion of e/N\n",
    "seq = cont_frac(Q3a_e, Q3a_N)\n",
    "\n",
    "for i in range(len(seq) - 1):\n",
    "    # Take the ith convergent\n",
    "    ith_conv = seq[:i+1]\n",
    "    # Reconver the numerator and the denominator of the ith convergent\n",
    "    hi, ki = sequence_to_frac(ith_conv)\n",
    "    # If the numerator is non-zero (in that case we cannot compute phi)\n",
    "    if hi != 0:\n",
    "        # Compute phi(N)\n",
    "        candidate_phi_n = (ki * Q3a_e - 1) // hi\n",
    "        # Factorize N knowing phi(N)\n",
    "        factors = find_factors(Q3a_N, candidate_phi_n)\n",
    "        # If the candidate phi(N) was the correct one we should get the two factors (p and q) of N\n",
    "        if factors != None:\n",
    "            p, q = factors\n",
    "            break"
   ]
  },
  {
   "cell_type": "code",
   "execution_count": 23,
   "metadata": {},
   "outputs": [],
   "source": [
    "def find_messages(f, e, n, c1, c2):\n",
    "    R = Integers(n)\n",
    "    P.<x> = PolynomialRing(R, 1)\n",
    "    p1 = f**e - c1\n",
    "    p2 = (x**e - c2).univariate_polynomial()\n",
    "    m2 = p1.change_ring(P).resultant(p2.change_ring(P))\n",
    "    m1 = f(m2)\n",
    "    return m1, m2"
   ]
  },
  {
   "cell_type": "code",
   "execution_count": 58,
   "metadata": {},
   "outputs": [],
   "source": [
    "def get_pt(e, n, c1, c2):\n",
    "    \n",
    "    m = floor((log(Q3b_N, 2) / (Q3b_e**2)))\n",
    "    k = 2**m\n",
    "    \n",
    "    Z_m = Integers(m)\n",
    "    R = Integers(n)\n",
    "    P.<x, y> = PolynomialRing(R, 2)\n",
    "    P1.<y> = PolynomialRing(R, 1)\n",
    "    g1 = x**e - c1\n",
    "    g2 = (x + y)**e - c2\n",
    "    multiv_y_poly = g2.change_ring(P1).resultant(g1.change_ring(P1), x)\n",
    "    univ_y_poly = multiv_y_poly.univariate_polynomial()\n",
    "    y = univ_y_poly.any_root(Z_m)\n",
    "\n",
    "    f = x.univariate_polynomial() + Mod(y, n)\n",
    "    m1, m2 = find_messages(f, e, n, c1, c2)\n",
    "    int_pt_1 = m1 // k\n",
    "    int_pt_2 = m2 // k\n",
    "    '''\n",
    "    if (int_pt_1 == int_pt_2):\n",
    "        int_pt = int_pt_1\n",
    "        \n",
    "    '''\n",
    "    nchars = len(str(int_pt_1))\n",
    "    pt = ''.join(chr((Integer(int_pt_1)>>8*(nchars-byte-1))&0xFF) for byte in range(nchars))\n",
    "    print(pt)\n",
    "    nchars = len(str(int_pt_2))\n",
    "    pt = ''.join(chr((Integer(int_pt_2)>>8*(nchars-byte-1))&0xFF) for byte in range(nchars))\n",
    "    print(pt)\n",
    "    return pt"
   ]
  },
  {
   "cell_type": "code",
   "execution_count": 59,
   "metadata": {},
   "outputs": [
    {
     "name": "stdout",
     "output_type": "stream",
     "text": [
      "\u0000\u0000\u0000\u0000\u0000\u0000\u0000\u0000\u0000\u0000\u0000\u0000\u0000\u0000\u0000\u0000\u0000\u0000\u0000\u0000\u0000\u0000\u0000\u0000\u0000\u0000\u0000\u0000\u0000\u0000\u0000\u0000\u0000\u0000\u0000\u0000\u0000\u0000\u0000\u0000\u0000\u0000\u0000\u0000\u0000\u0000\u0000\u0000\u0000\u0000\u0000\u0000\u0000\u0000\u0000\u0000\u0000\u0000\u0000\u0000\u0000\u0000\u0000\u0000\u0000\u0000\u0000\u0000\u0000\u0000\u0000\u0000\u0000\u0000\u0000\u0000\u0000\u0000\u0000\u0000\u0000\u0000\u0000\u0000\u0000\u0000\u0000\u0000\u0000\u0000\u0000\u0000\u0000\u0000\u0000\u0000\u0000\u0000\u0000\u0000\u0000\u0000\u0000\u0000\u0000\u0000\u0000\u0000\u0000\u0000\u0000\u0000\u0000\u0000\u0000\u0000\u0000\u0000\u0000\u0000\u0000\u0000\u0000\u0000\u0000\u0000\u0000\u0000\u0000\u0000\u0000\u0000\u0000\u0000\u0000\u0000\u0000\u0000\u0000\u0000\u0000\u0000\u0000\u0000\u0000\u0000\u0000\u0000\u0000\u0000\u0000\u0000\u0000\u0000\u0000\u0000\u0000\u0000\u0000\u0000\u0000\u0000\u0000\u0000\u0000\u0000\u0000\u0000\u0000\u0000\u0000\u0000\u0000\u0000\u0000\u0000\u0000\u0000\u0000\u0000\u0000\u0000\u0000\u0000\u0000\u0000\u0000\u0000\u0000\u0000\u0000\u0000\u0000\u0000\u0000\u0000\u0000\u0000\u0000\u0000\u0000\u0000\u0000\u0000\u0000\u0000\u0000\u0000\u0000\u0000\u0000\u0000\u0000\u0000\u0000\u0000\u0000\u0000\u0000\u0000\u0000\u0000\u0000\u0000\u0000\u0000\u0000\u0000\u0000\u0000\u0000\u0000\u0000\u0000\u0000\u0000\u0000\u0000\u0000\u0000\u0000\u0000\u0000\u0000\u0000\u0000\u0000\u0000\u0000\u0000\u0000\u0000\u0000\u0000\u0000\u0000\u0000\u0000\u0000\u0000\u0000\u0000\u0000\u0000\u0000\u0000\u0000\u0000\u0000\u0000\u0000\u0000\u0000\u0000\u0000\u0000\u0000\u0000\u0000\u0000\u0000\u0000\u0000\u0000\u0000\u0000\u0000\u0000\u0000\u0000\u0000\u0000\u0000\u0000\u0000\u0000\u0000\u0000\u0000\u0000\u0000\u0000\u0000\u0000\u0000\u0000\u0000\u0000\u0000\u0000\u0000\u0000\u0000\u0000\u0000\u0000\u0000\u0000\u0000\u0000\u0000\u0000\u0000\u0000\u0000\u0000\u0000\u0000\u0000\u0000\u0000\u0000\u0000\u0000\u0000\u0000\u0000\u0000\u0000\u0000\u0000\u0000\u0000\u0000\u0000\u0000\u0000\u0000\u0000\u0000\u0000\u0000\u0000\u0000\u0000\u0000\u0000\u0000\u0000\u0000\u0000QÅÑç\n",
      "8×ßa©kó¶)}\u000b",
      "%Ë.ÊÙzo$}UÅD!\u0016æ\u0003Ø\u0007Ñ<ù­lsëãe «ì-Òç½-»\u000e@UÚó²3¨\u001aJ\"LJó\u00005D\"\u0006,ï© \u001fNÉYºÈ¤)q£µnÆdúª\u0000A",
      "\u001c",
      "\t\u001c",
      "Htætl¢OB#Û§ \u000e7f9´X>T'´QG»Ù\u001bÑù'Ð\u0014r;\\Á»ôæV$®vÅÊ\u001a£\t\u001b\n",
      "Gþ«Æ¬aÎ÷#\f",
      "7?a\u0000\u0000\u0000\u0000\u0000\u0000\u0000\u0000\u0000\u0000\u0000\u0000\u0000\u0000\u0000\u0000\u0000\u0000\u0000\u0000\u0000\u0000\u0000\u0000\u0000\u0000\u0000\u0000\u0000\u0000\u0000\u0000\u0000\u0000\u0000\u0000\u0000\u0000\u0000\u0000\u0000\u0000\u0000\u0000\u0000\u0000\u0000\u0000\u0000\u0000\u0000\u0000\u0000\u0000\u0000\u0000\u0000\u0000\u0000\u0000\u0000\u0000\u0000\u0000\u0000\u0000\u0000\u0000\u0000\u0000\u0000\u0000\u0000\u0000\u0000\u0000\u0000\u0000\u0000\u0000\u0000\u0000\u0000\u0000\u0000\u0000\u0000\u0000\u0000\u0000\u0000\u0000\u0000\u0000\u0000\u0000\u0000\u0000\u0000\u0000\u0000\u0000\u0000\u0000\u0000\u0000\u0000\u0000\u0000\u0000\u0000\u0000\u0000\u0000\u0000\u0000\u0000\u0000\u0000\u0000\u0000\u0000\u0000\u0000\u0000\u0000\u0000\u0000\u0000\u0000\u0000\u0000\u0000\u0000\u0000\u0000\u0000\u0000\u0000\u0000\u0000\u0000\u0000\u0000\u0000\u0000\u0000\u0000\u0000\u0000\u0000\u0000\u0000\u0000\u0000\u0000\u0000\u0000\u0000\u0000\u0000\u0000\u0000\u0000\u0000\u0000\u0000\u0000\u0000\u0000\u0000\u0000\u0000\u0000\u0000\u0000\u0000\u0000\u0000\u0000\u0000\u0000\u0000\u0000\u0000\u0000\u0000\u0000\u0000\u0000\u0000\u0000\u0000\u0000\u0000\u0000\u0000\u0000\u0000\u0000\u0000\u0000\u0000\u0000\u0000\u0000\u0000\u0000\u0000\u0000\u0000\u0000\u0000\u0000\u0000\u0000\u0000\u0000\u0000\u0000\u0000\u0000\u0000\u0000\u0000\u0000\u0000\u0000\u0000\u0000\u0000\u0000\u0000\u0000\u0000\u0000\u0000\u0000\u0000\u0000\u0000\u0000\u0000\u0000\u0000\u0000\u0000\u0000\u0000\u0000\u0000\u0000\u0000\u0000\u0000\u0000\u0000\u0000\u0000\u0000\u0000\u0000\u0000\u0000\u0000\u0000\u0000\u0000\u0000\u0000\u0000\u0000\u0000\u0000\u0000\u0000\u0000\u0000\u0000\u0000\u0000\u0000\u0000\u0000\u0000\u0000\u0000\u0000\u0000\u0000\u0000\u0000\u0000\u0000\u0000\u0000\u0000\u0000\u0000\u0000\u0000\u0000\u0000\u0000\u0000\u0000\u0000\u0000\u0000\u0000\u0000\u0000\u0000\u0000\u0000\u0000\u0000\u0000\u0000\u0000\u0000\u0000\u0000\u0000\u0000\u0000\u0000\u0000\u0000\u0000\u0000\u0000\u0000\u0000\u0000\u0000\u0000\u0000\u0000\u0000\u0000\u0000\u0000\u0000\u0000\u0000\u00003D¶ÞÞ\u000fIÖ",
      "gU<´u?]Ñé\u0000¨|ÕÓ¢#\f",
      "d\n",
      " oe\u0002\u000e\u001d",
      "w®\u0012ëA\f",
      "\" Æ°Pé N\u001c",
      "£Õ)Ú³t±%¬sm\u001d",
      "F_3æ¼è\u0014ú\f",
      "ðë\u0012^øk\"5\u0004u3Bø¨øZ7ÑÂÂ§Dà*'\u001a\u0013ß°2R<¨YK$=-8Æ¨éµ*\u001e",
      "NL±Ò»ä¼ ¬>EÛûºëþaeýÏð§8f¸x]04#.\u0001)\n",
      "yèðÎ¾Z\u0004GE×\\ÑW¨U4/õÛ¹2\u001bÀJì-Kä)\u001aêÈOK­\u0014J­&\u0005Àq¬æ¨T/\f",
      "b\u001aÛf\u0007+\n"
     ]
    },
    {
     "data": {
      "text/plain": [
       "'\\x00\\x00\\x00\\x00\\x00\\x00\\x00\\x00\\x00\\x00\\x00\\x00\\x00\\x00\\x00\\x00\\x00\\x00\\x00\\x00\\x00\\x00\\x00\\x00\\x00\\x00\\x00\\x00\\x00\\x00\\x00\\x00\\x00\\x00\\x00\\x00\\x00\\x00\\x00\\x00\\x00\\x00\\x00\\x00\\x00\\x00\\x00\\x00\\x00\\x00\\x00\\x00\\x00\\x00\\x00\\x00\\x00\\x00\\x00\\x00\\x00\\x00\\x00\\x00\\x00\\x00\\x00\\x00\\x00\\x00\\x00\\x00\\x00\\x00\\x00\\x00\\x00\\x00\\x00\\x00\\x00\\x00\\x00\\x00\\x00\\x00\\x00\\x00\\x00\\x00\\x00\\x00\\x00\\x00\\x00\\x00\\x00\\x00\\x00\\x00\\x00\\x00\\x00\\x00\\x00\\x00\\x00\\x00\\x00\\x00\\x00\\x00\\x00\\x00\\x00\\x00\\x00\\x00\\x00\\x00\\x00\\x00\\x00\\x00\\x00\\x00\\x00\\x00\\x00\\x00\\x00\\x00\\x00\\x00\\x00\\x00\\x00\\x00\\x00\\x00\\x00\\x00\\x00\\x00\\x00\\x00\\x00\\x00\\x00\\x00\\x00\\x00\\x00\\x00\\x00\\x00\\x00\\x00\\x00\\x00\\x00\\x00\\x00\\x00\\x00\\x00\\x00\\x00\\x00\\x00\\x00\\x00\\x00\\x00\\x00\\x00\\x00\\x00\\x00\\x00\\x00\\x00\\x00\\x00\\x00\\x00\\x00\\x00\\x00\\x00\\x00\\x00\\x00\\x00\\x00\\x00\\x00\\x00\\x00\\x00\\x00\\x00\\x00\\x00\\x00\\x00\\x00\\x00\\x00\\x00\\x00\\x00\\x00\\x00\\x00\\x00\\x00\\x00\\x00\\x00\\x00\\x00\\x00\\x00\\x00\\x00\\x00\\x00\\x00\\x00\\x00\\x00\\x00\\x00\\x00\\x00\\x00\\x00\\x00\\x00\\x00\\x00\\x00\\x00\\x00\\x00\\x00\\x00\\x00\\x00\\x00\\x00\\x00\\x00\\x00\\x00\\x00\\x00\\x00\\x00\\x00\\x00\\x00\\x00\\x00\\x00\\x00\\x00\\x00\\x00\\x00\\x00\\x00\\x00\\x00\\x00\\x00\\x00\\x00\\x00\\x00\\x00\\x00\\x00\\x00\\x00\\x00\\x00\\x00\\x00\\x00\\x00\\x00\\x00\\x00\\x00\\x00\\x00\\x00\\x00\\x00\\x00\\x00\\x00\\x00\\x00\\x00\\x00\\x00\\x00\\x00\\x00\\x00\\x00\\x00\\x00\\x00\\x00\\x00\\x00\\x00\\x00\\x00\\x00\\x00\\x00\\x00\\x00\\x00\\x00\\x00\\x00\\x00\\x00\\x00\\x00\\x00\\x00\\x00\\x00\\x00\\x00\\x00\\x00\\x00\\x00\\x00\\x00\\x00\\x00\\x00\\x00\\x00\\x00\\x00\\x00\\x00\\x00\\x00\\x00\\x00\\x8d\\x973D¶ÞÞ\\x0fI\\x82Ö\\x82\\x85gU\\x7f<´u?]Ñé\\x00\\x80¨|ÕÓ¢#\\x0cd\\rGþ«Æ¬aÎ÷\\x8a#\\x0c7?a\\n oe\\x02\\x0e\\x1dw®\\x12ëA\\x0c\"\\x8e \\x9dÆ°Pé N\\x1c£Õ\\x9a)Ú³t±%¬sm\\x9d\\x1dF_3æ¼è\\x14ú\\x0c\\x82ðº\\x08ë\\x12^\\x7føk\"5\\x95\\x04u3Bø\\x98¨øZ\\x957ÑÂÂ§Dà*\\'\\x1a\\x8f\\x13ß°\\x8f2R<¨YK$=-8Æ¨éµ*\\x1eNL±Ò\\x9b»ä¼\\x8a\\xa0\\x8d¬>EÛ\\x90ûº\\x8d\\x84ëþa\\x9deýÏ\\x9að§8f¸x]04#.\\x01)\\nyèðÎ\\x92¾Z\\x04\\x9aGE\\x83×\\x86\\\\ÑW¨U4/õÛ¹2\\x1bÀJì-\\x9dKä)\\x1aêÈ\\x91\\x89O\\x98\\x9bK\\xad\\x14J\\xad&\\x05Àq¬æ¨T\\x96/\\x0cb\\x1aÛf\\x07\\x88+'"
      ]
     },
     "execution_count": 59,
     "metadata": {},
     "output_type": "execute_result"
    }
   ],
   "source": [
    "get_pt(Q3b_e, Q3b_N, Q3b_c1, Q3b_c2)"
   ]
  },
  {
   "cell_type": "code",
   "execution_count": null,
   "metadata": {},
   "outputs": [],
   "source": []
  }
 ],
 "metadata": {
  "kernelspec": {
   "display_name": "SageMath 9.2",
   "language": "sage",
   "name": "sagemath"
  },
  "language_info": {
   "codemirror_mode": {
    "name": "ipython",
    "version": 3
   },
   "file_extension": ".py",
   "mimetype": "text/x-python",
   "name": "python",
   "nbconvert_exporter": "python",
   "pygments_lexer": "ipython3",
   "version": "3.8.6"
  }
 },
 "nbformat": 4,
 "nbformat_minor": 4
}
