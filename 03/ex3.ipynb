{
 "cells": [
  {
   "cell_type": "code",
   "execution_count": 1,
   "metadata": {},
   "outputs": [],
   "source": [
    "import binascii\n",
    "from helpers import get_input_init_str"
   ]
  },
  {
   "cell_type": "code",
   "execution_count": 2,
   "metadata": {},
   "outputs": [],
   "source": [
    "# filename = \"test_params/123-params.txt\"\n",
    "filename = \"313423/313423-parameters.txt\""
   ]
  },
  {
   "cell_type": "code",
   "execution_count": 3,
   "metadata": {},
   "outputs": [
    {
     "name": "stdout",
     "output_type": "stream",
     "text": [
      "Reading: '313423/313423-parameters.txt'\n"
     ]
    }
   ],
   "source": [
    "input_init_str = get_input_init_str(filename, ex=3)\n",
    "exec(input_init_str)"
   ]
  },
  {
   "cell_type": "code",
   "execution_count": 4,
   "metadata": {},
   "outputs": [],
   "source": [
    "def cont_frac(num, den, i = None):\n",
    "    ''' Function that returns the unique finite sequence [a0, a1, ..., ak] of the terms of the\n",
    "    continuous fraction of the rational number num/den\n",
    "    \n",
    "    Parameters\n",
    "    ----------\n",
    "    num : integer\n",
    "        numerator of the rational number given as input\n",
    "    den : integer\n",
    "        denominator of the rational numbert given as input\n",
    "    i : integer\n",
    "        required to be non negative; if specified, returns the i-th convergent of num/den; \n",
    "        for any i<k the returned list will be of the type [a0, a1, ..., ai]\n",
    "    '''\n",
    "    a = num//den\n",
    "    seq = [a]\n",
    "    \n",
    "    if num%den == 0 or i == 0:\n",
    "        return seq\n",
    "    \n",
    "    num -= a*den\n",
    "    \n",
    "    if i == None:\n",
    "        seq += cont_frac(den, num)\n",
    "    else:\n",
    "        seq += cont_frac(den, num, i - 1)\n",
    "                         \n",
    "    return seq"
   ]
  },
  {
   "cell_type": "code",
   "execution_count": 5,
   "metadata": {},
   "outputs": [],
   "source": [
    "def sequence_to_frac(seq):\n",
    "    ''' Given the unique sequence [a0, a1, ..., ak] of the terms of the continuous fraction \n",
    "    (or i-th convergent) of a rational number, returns the numerator and denominator of the\n",
    "    fraction that corresponds to that sequence\n",
    "    \n",
    "    Parameters\n",
    "    ----------\n",
    "    seq : list\n",
    "        terms of the continuous fraction (or i-th convergent) of the number\n",
    "        \n",
    "    Returns\n",
    "    -------\n",
    "    integer, integer\n",
    "        numerator and denominator of the corresponding rational number\n",
    "    '''\n",
    "    \n",
    "    # Base case: if the lenght is 1, then the continuos fraction contains just the numerator \n",
    "    # of the number itself\n",
    "    if len(seq) == 1:\n",
    "        return (seq[0], 1)\n",
    "    \n",
    "    # Iterative step: the rational number is composed by the first term in the sequence plus\n",
    "    # the reciprocal of the rational number represented by the remaining subsequence\n",
    "    num_a_succ, den_a_succ = sequence_to_frac(seq[1:])\n",
    "    n = seq[0] + den_a_succ/num_a_succ\n",
    "    return n.numerator(), n.denominator()"
   ]
  },
  {
   "cell_type": "code",
   "execution_count": 6,
   "metadata": {},
   "outputs": [],
   "source": [
    "def floor_sqrt(x) : \n",
    "    ''' Function that computes the square root of a number (rounded to its floor)\n",
    "    \n",
    "    Parameters\n",
    "    ----------\n",
    "    x : int\n",
    "        radicand\n",
    "        \n",
    "    Returns\n",
    "    -------\n",
    "    integer\n",
    "        floor of the square root of x\n",
    "    '''\n",
    "    # Base cases \n",
    "    if (x == 0 or x == 1) : \n",
    "        return x \n",
    "   \n",
    "    lower = 10**(len(str(x))//2 - 1) \n",
    "    upper = 10**(len(str(x))//2 + 1)\n",
    "    \n",
    "    while (lower <= upper) : \n",
    "        mid = (lower + upper) // 2\n",
    "          \n",
    "        # If x is a perfect square \n",
    "        if (mid*mid == x) : \n",
    "            return mid \n",
    "              \n",
    "        # Since we need floor, we update  \n",
    "        # answer when mid*mid is smaller \n",
    "        # than x, and move closer to sqrt(x) \n",
    "        if (mid * mid < x) : \n",
    "            lower = mid + 1\n",
    "            ans = mid \n",
    "              \n",
    "        else : \n",
    "              \n",
    "            # If mid*mid is greater than x \n",
    "            upper = mid-1\n",
    "              \n",
    "    return ans "
   ]
  },
  {
   "cell_type": "code",
   "execution_count": 7,
   "metadata": {},
   "outputs": [],
   "source": [
    "def find_factors(n, phi_n):\n",
    "    ''' Given n=pq with p and q primes and phi(n) (Euler's phi of n) retrieve p and q\n",
    "    \n",
    "    Parameters\n",
    "    ----------\n",
    "    n : integer\n",
    "        product of two prime numbers\n",
    "    phi_n : integer\n",
    "        Euler's phi of n\n",
    "    \n",
    "    Returns\n",
    "    -------\n",
    "    p, q\n",
    "        prime factors of n\n",
    "    None \n",
    "        if no prime factor has been found\n",
    "    \n",
    "    '''\n",
    "    \n",
    "    # phi(n) = (p-1)(q-1) = pq-p-q+1 = n-p-q+1 => p+q = n-phi(n)+1\n",
    "    sum_p_q = n - phi_n + 1\n",
    "    \n",
    "    if sum_p_q < 0:\n",
    "        return None\n",
    "    \n",
    "    # Binary search of the factors (assuming that q < p < 2q)\n",
    "    lower = floor_sqrt(n)\n",
    "    upper = floor_sqrt(2 * n)\n",
    "    \n",
    "    while(lower <= upper):\n",
    "        \n",
    "        # Take the middle point\n",
    "        q = (upper + lower) // 2\n",
    "        p = sum_p_q - q\n",
    "        \n",
    "        if p * q == n:\n",
    "            # Found them!\n",
    "            return p, q\n",
    "        elif p * q > n: \n",
    "            # To make the product smaller we want to increase the difference between p and q\n",
    "            if q < p:\n",
    "                upper = q - 1\n",
    "            else:\n",
    "                lower = q + 1\n",
    "        elif p * q < n:\n",
    "            # To make the product bigger we want to decrease the difference between p and q\n",
    "            if q < p:\n",
    "                lower = q + 1\n",
    "            else:\n",
    "                upper = q - 1\n",
    "    return None"
   ]
  },
  {
   "cell_type": "code",
   "execution_count": 8,
   "metadata": {},
   "outputs": [],
   "source": [
    "# Find the continued fraction expansion of e/N\n",
    "seq = cont_frac(Q3a_e, Q3a_N)\n",
    "\n",
    "for i in range(len(seq) - 1):\n",
    "    # Take the ith convergent\n",
    "    ith_conv = seq[:i+1]\n",
    "    # Recover the numerator and the denominator of the ith convergent\n",
    "    hi, ki = sequence_to_frac(ith_conv)\n",
    "    # If the numerator is non-zero (in that case we cannot compute phi)\n",
    "    if hi != 0:\n",
    "        # Compute phi(N)\n",
    "        candidate_phi_n = (ki * Q3a_e - 1) // hi\n",
    "        # Factorize N knowing phi(N)\n",
    "        factors = find_factors(Q3a_N, candidate_phi_n)\n",
    "        # If the candidate phi(N) was the correct one we should get the two factors (p and q) of N\n",
    "        if factors != None:\n",
    "            p, q = factors\n",
    "            break"
   ]
  },
  {
   "cell_type": "code",
   "execution_count": 9,
   "metadata": {},
   "outputs": [
    {
     "data": {
      "text/plain": [
       "True"
      ]
     },
     "execution_count": 9,
     "metadata": {},
     "output_type": "execute_result"
    }
   ],
   "source": [
    "# Check whether the product of the found factors is exactly N and then print them\n",
    "p * q == Q3a_N"
   ]
  },
  {
   "cell_type": "code",
   "execution_count": 10,
   "metadata": {},
   "outputs": [
    {
     "data": {
      "text/plain": [
       "891114096514443467110886545251050219770562940108589030809115405663547004546089043636711997938800052677109094941278989628508610825411687035268906235941698934196434303135837684109487071413884397640134429977017633068052891738472989569"
      ]
     },
     "execution_count": 10,
     "metadata": {},
     "output_type": "execute_result"
    }
   ],
   "source": [
    "p"
   ]
  },
  {
   "cell_type": "code",
   "execution_count": 11,
   "metadata": {},
   "outputs": [
    {
     "data": {
      "text/plain": [
       "1566953785786938622314405339346799628114090389025096510146185928170684968434195118919766345956499836580057584877014639846846056411890541650149349905539057560736567155665544560106509152586382680273420379019041310461217051852399747401"
      ]
     },
     "execution_count": 11,
     "metadata": {},
     "output_type": "execute_result"
    }
   ],
   "source": [
    "q"
   ]
  },
  {
   "cell_type": "code",
   "execution_count": 12,
   "metadata": {},
   "outputs": [],
   "source": [
    "def my_gcd(a, b): \n",
    "    ''' Find the gcd of a and b (can be used to find the gcd of two polynomials over a ring)\n",
    "    '''\n",
    "    return a.monic() if b == 0 else my_gcd(b, a % b)"
   ]
  },
  {
   "cell_type": "code",
   "execution_count": 13,
   "metadata": {},
   "outputs": [],
   "source": [
    "def find_related_message(delta, e, n, c1, c2):\n",
    "    ''' Given that c1 and c2 are the ciphertext generated using an RSA encryption scheme with \n",
    "    public exponent e and modulo N, and that their respective plain messages are M1=f(M2) and M2,\n",
    "    find the integer representation of M2\n",
    "    \n",
    "    Parameters\n",
    "    ----------\n",
    "    delta : integer\n",
    "        coefficient with degree 0 of the linear monic polynomial f(x) = x + delta\n",
    "    e : integer\n",
    "        exponent of the RSA encryption scheme (must be 3 in order to be able to find M2)\n",
    "    n : integer\n",
    "        modulo of the RSA encryption scheme\n",
    "    c1 : integer\n",
    "        ciphertext obtained with the message M1\n",
    "    c2 : integer \n",
    "        ciphertext obtained with the message M2\n",
    "    \n",
    "    Returns\n",
    "    -------\n",
    "    integer\n",
    "        integer representation of M2\n",
    "    '''\n",
    "\n",
    "    P1.<x> = Zmod(n)[]\n",
    "    f1 = x^e - c1\n",
    "    f2 = (x + delta)^e - c2\n",
    "    \n",
    "    # Return the inverse of the term of degree 0\n",
    "    return - my_gcd(f1, f2).coefficients()[0] "
   ]
  },
  {
   "cell_type": "code",
   "execution_count": 14,
   "metadata": {},
   "outputs": [],
   "source": [
    "def get_plain_msg(e, n, c1, c2):\n",
    "    ''' Print the message M encrypted with 2 different paddings in c1 and c2 using RSA\n",
    "    \n",
    "    Parameters\n",
    "    ----------\n",
    "    e : integer\n",
    "        exponent of the RSA encryption scheme (must be 3 in order to be able to find M)\n",
    "    n : integer\n",
    "        modulo of the RSA encryption scheme\n",
    "    c1 : integer\n",
    "        ciphertext obtained with the message M and padding r1\n",
    "    c2 : integer \n",
    "        ciphertext obtained with the message M and padding r2\n",
    "    '''\n",
    "    \n",
    "    Z_n = Zmod(n)\n",
    "    P.<x, y> = PolynomialRing(Z_n)\n",
    "    P2.<y> = PolynomialRing(Z_n)\n",
    "    \n",
    "    g1 = (P(x) ^ e - c1).change_ring(P2)\n",
    "    g2 = ((P(x) + P(y)) ^ e - c2).change_ring(P2)\n",
    "    \n",
    "    # Find the resultant of g1 and g2\n",
    "    res = g1.resultant(g2, x)\n",
    "    univ_res = res.univariate_polynomial().change_ring(Z_n)\n",
    "    \n",
    "    # delta = r2 - r1 is a \"small\" root of the resultant polynomial\n",
    "    # (the parameters of small_roots have been found empirically)\n",
    "    delta = univ_res.small_roots(beta=1.0, epsilon=0.1)[0]\n",
    "    \n",
    "    # Find the message exploiting the knowledge of the difference between the paddings delta\n",
    "    m2 = find_related_message(delta, e, n, c1, c2)\n",
    "    \n",
    "    # Finally, remove the padding by multiplying by m\n",
    "    k = Integer(Integer(Q3b_N).nbits() // Integer(Q3b_e ** 2))\n",
    "    m = 2 ** k\n",
    "    hex_msg = (Integer(m2) // m).hex()   \n",
    "    msg = binascii.unhexlify(hex_msg).decode()\n",
    "    return msg"
   ]
  },
  {
   "cell_type": "code",
   "execution_count": 15,
   "metadata": {},
   "outputs": [
    {
     "data": {
      "text/plain": [
       "\"If I can't even protect my captain's dream, then whatever ambition I have is nothing but talk... (Roronoa Zoro, One Piece)\""
      ]
     },
     "execution_count": 15,
     "metadata": {},
     "output_type": "execute_result"
    }
   ],
   "source": [
    "get_plain_msg(Q3b_e, Q3b_N, Q3b_c1, Q3b_c2)"
   ]
  }
 ],
 "metadata": {
  "kernelspec": {
   "display_name": "SageMath 9.2",
   "language": "sage",
   "name": "sagemath"
  },
  "language_info": {
   "codemirror_mode": {
    "name": "ipython",
    "version": 3
   },
   "file_extension": ".py",
   "mimetype": "text/x-python",
   "name": "python",
   "nbconvert_exporter": "python",
   "pygments_lexer": "ipython3",
   "version": "3.8.6"
  }
 },
 "nbformat": 4,
 "nbformat_minor": 4
}
