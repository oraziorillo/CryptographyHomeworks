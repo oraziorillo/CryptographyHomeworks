{
 "cells": [
  {
   "cell_type": "code",
   "execution_count": 1,
   "metadata": {},
   "outputs": [],
   "source": [
    "import hashlib\n",
    "from helpers import get_input_init_str"
   ]
  },
  {
   "cell_type": "code",
   "execution_count": 2,
   "metadata": {},
   "outputs": [],
   "source": [
    "# filename = \"test_params/123-params.txt\"\n",
    "filename = \"313423/313423-parameters.txt\""
   ]
  },
  {
   "cell_type": "code",
   "execution_count": 3,
   "metadata": {},
   "outputs": [
    {
     "name": "stdout",
     "output_type": "stream",
     "text": [
      "Reading: '313423/313423-parameters.txt'\n"
     ]
    }
   ],
   "source": [
    "# Initialize problem parameters\n",
    "input_init_str = get_input_init_str(filename, ex=1)\n",
    "exec(input_init_str)"
   ]
  },
  {
   "cell_type": "code",
   "execution_count": 4,
   "metadata": {},
   "outputs": [],
   "source": [
    "def find_common_factors(N, N_i_list):\n",
    "    ''' Find common factor between N and any element in N_i_list\n",
    "    \n",
    "    Parameters\n",
    "    ----------\n",
    "    N : int\n",
    "        integer to find a factor of\n",
    "    N_i_list : list\n",
    "        list of numbers that can have a common factor with N\n",
    "        \n",
    "    Returns\n",
    "    -------\n",
    "    list\n",
    "        list of found factors of N\n",
    "    '''\n",
    "    \n",
    "    factors = []\n",
    "    for ni in N_i_list:\n",
    "        div = gcd(N, ni)\n",
    "        if div > 1:\n",
    "            factors.append(div)\n",
    "    return factors"
   ]
  },
  {
   "cell_type": "code",
   "execution_count": 5,
   "metadata": {},
   "outputs": [],
   "source": [
    "def phi(N):\n",
    "    ''' This function computes phi(N) where N is the product of 3 prime numbers: p, q and r.\n",
    "    \n",
    "    Parameters\n",
    "    ----------\n",
    "    N : list\n",
    "        list of the three prime factors of N\n",
    "        \n",
    "    Returns\n",
    "    -------\n",
    "    int\n",
    "        phi(N)\n",
    "    '''\n",
    "    return (N[0]-1)*(N[1]-1)*(N[2]-1)"
   ]
  },
  {
   "cell_type": "code",
   "execution_count": 6,
   "metadata": {},
   "outputs": [],
   "source": [
    "tmp = Q1_N # product of the still unknown factors of N\n",
    "\n",
    "# Initialize the list of the factors of n with the factors in common with the \n",
    "# other pseudo-randomly generated moduli exploiting the low entropy of the seed\n",
    "N_factorized = find_common_factors(Q1_N, Q1_L_mod)\n",
    "for f in N_factorized:\n",
    "    tmp /= f \n",
    "    \n",
    "# Try to find faulted decrypted ciphertext i.e a pair (pt, dec_ct) \n",
    "# in which the plaintext pt is different from the decrypted ciphertext dec_ct\n",
    "faulted_pairs = list(filter(lambda x: x[0] != x[1], Q1_L_x))\n",
    "\n",
    "for fp in faulted_pairs:\n",
    "    \n",
    "    correct_pt = fp[0]\n",
    "    wrong_pt = fp[1]\n",
    "\n",
    "    # For each faulted pair use try to find a divisor in common between tmp and the difference \n",
    "    # of the correct plaintext and the faulted decryption \n",
    "    f = gcd(correct_pt - wrong_pt, tmp)\n",
    "    if f != 1:\n",
    "        N_factorized.append(f)\n",
    "        tmp /= f\n",
    "\n",
    "# Append the product of the remaining factors\n",
    "# Note that if all of them have been found already then tmp will just be the last factor\n",
    "N_factorized.append(tmp)"
   ]
  },
  {
   "cell_type": "code",
   "execution_count": 7,
   "metadata": {},
   "outputs": [
    {
     "data": {
      "text/plain": [
       "True"
      ]
     },
     "execution_count": 7,
     "metadata": {},
     "output_type": "execute_result"
    }
   ],
   "source": [
    "# Check whether the product of the found factors is N\n",
    "N_factorized[0]*N_factorized[1]*N_factorized[2] == Q1_N"
   ]
  },
  {
   "cell_type": "code",
   "execution_count": 8,
   "metadata": {},
   "outputs": [],
   "source": [
    "# To decrypt the plaintext once N is factorized, \n",
    "# first we recover the secret key for the RSA encryption algorithm (d)\n",
    "sk = inverse_mod(Q1_e, phi(N_factorized))\n",
    "# Then we use it to decrypt the text encrypted with RSA\n",
    "x = power_mod(Q1_ct_RSA, sk, Q1_N)\n",
    "# We generate the key used for encrypting the password with an hash function \n",
    "key = hashlib.sha512(str(x).encode('ascii')).digest()\n",
    "# Finally, we decrypt the password by inverting the xor operation\n",
    "pt = ''\n",
    "for (a, b) in zip(key, Q1_ct_pwd):\n",
    "    pt += chr(a ^^ b)"
   ]
  },
  {
   "cell_type": "code",
   "execution_count": 9,
   "metadata": {},
   "outputs": [
    {
     "data": {
      "text/plain": [
       "'banshee51'"
      ]
     },
     "execution_count": 9,
     "metadata": {},
     "output_type": "execute_result"
    }
   ],
   "source": [
    "pt"
   ]
  }
 ],
 "metadata": {
  "kernelspec": {
   "display_name": "SageMath 9.2",
   "language": "sage",
   "name": "sagemath"
  },
  "language_info": {
   "codemirror_mode": {
    "name": "ipython",
    "version": 3
   },
   "file_extension": ".py",
   "mimetype": "text/x-python",
   "name": "python",
   "nbconvert_exporter": "python",
   "pygments_lexer": "ipython3",
   "version": "3.8.6"
  }
 },
 "nbformat": 4,
 "nbformat_minor": 4
}
