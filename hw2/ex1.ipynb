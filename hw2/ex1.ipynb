{
 "cells": [
  {
   "cell_type": "code",
   "execution_count": 1,
   "metadata": {},
   "outputs": [],
   "source": [
    "def keyAgreement(pk_B, sk_A):\n",
    "    ''' Find the Fibonacci number with index sk_A + sk_B\n",
    "    where sk_B is the secret key of the other party\n",
    "    \n",
    "    Parameters\n",
    "    ----------\n",
    "    pk_B : list\n",
    "        public key of the other party; it has the following format:\n",
    "            - pk_B[0] is the (sk_B)th Fibonacci number\n",
    "            - pk_B[1] is the (sk_B-1)th Fibonacci number\n",
    "            - pk_B[2] is the order of the field in which operations are made\n",
    "    sk_A : int\n",
    "        personal secret key\n",
    "    \n",
    "    Returns\n",
    "    -------\n",
    "    int \n",
    "        the Fibonacci number with index sk_A + sk_B\n",
    "    '''\n",
    "    \n",
    "    f = pk_B[0]\n",
    "    f_prev = pk_B[1]\n",
    "    p = pk_B[2]    \n",
    "    \n",
    "    # All operations are modulo p operations\n",
    "    F = GF(p)\n",
    "    \n",
    "    # Smart (efficient) way of computing the (sk_A)th Fibonacci number after F_(sk_B) \n",
    "    A = matrix(F, [[1, 1], [1, 0]])\n",
    "    B = matrix(F, [[f+f_prev, f], [f, f_prev]])\n",
    "    result = B * A^sk_A\n",
    "    \n",
    "    return result[0][1]"
   ]
  },
  {
   "cell_type": "code",
   "execution_count": 2,
   "metadata": {},
   "outputs": [
    {
     "name": "stdout",
     "output_type": "stream",
     "text": [
      "Correct\n"
     ]
    }
   ],
   "source": [
    "# Test 1\n",
    "if keyAgreement([5,3,13], 3) == 8:\n",
    "    print('Correct')"
   ]
  },
  {
   "cell_type": "code",
   "execution_count": 3,
   "metadata": {},
   "outputs": [
    {
     "name": "stdout",
     "output_type": "stream",
     "text": [
      "Correct\n"
     ]
    }
   ],
   "source": [
    "# Test 2\n",
    "\n",
    "Q1_pkb = [389258881334190399452027237482197007930232330941325, 30402458690454919936937105795616495523730710246059, 494800977457749436907007133217459070246188801469143]\n",
    "Q1_sk = 2348980990849942434849967\n",
    "Q1_Key = 305446167891329775526769995867875592680667338918938\n",
    "\n",
    "if keyAgreement(Q1_pkb, Q1_sk) == Q1_Key:\n",
    "    print('Correct')"
   ]
  },
  {
   "cell_type": "code",
   "execution_count": 10,
   "metadata": {},
   "outputs": [
    {
     "data": {
      "text/plain": [
       "345088197033230955332269879731319538366015876250614"
      ]
     },
     "execution_count": 10,
     "metadata": {},
     "output_type": "execute_result"
    }
   ],
   "source": [
    "# Personal parameters\n",
    "\n",
    "Q1_pkb = [480186269512374392217336616786297404488581543011133, 127465332960217058514474629834279305007121940132387, 534468406082597837211652119688094828292710363264567]\n",
    "Q1_sk = 1266316327944915273942287\n",
    "\n",
    "keyAgreement(Q1_pkb, Q1_sk)"
   ]
  }
 ],
 "metadata": {
  "kernelspec": {
   "display_name": "SageMath 9.1",
   "language": "sage",
   "name": "sagemath"
  },
  "language_info": {
   "codemirror_mode": {
    "name": "ipython",
    "version": 3
   },
   "file_extension": ".py",
   "mimetype": "text/x-python",
   "name": "python",
   "nbconvert_exporter": "python",
   "pygments_lexer": "ipython3",
   "version": "3.8.6"
  }
 },
 "nbformat": 4,
 "nbformat_minor": 4
}
