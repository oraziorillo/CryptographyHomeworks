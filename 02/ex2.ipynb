{
 "cells": [
  {
   "cell_type": "code",
   "execution_count": 1,
   "metadata": {},
   "outputs": [],
   "source": [
    "import base64"
   ]
  },
  {
   "cell_type": "code",
   "execution_count": 2,
   "metadata": {},
   "outputs": [],
   "source": [
    "def one_step_decrypt(ct, key, N):\n",
    "    ''' Compute one step of the decrypting procedure: find the plaintext knowing ciphertext, key and rotation\n",
    "    \n",
    "    Parameters\n",
    "    ----------\n",
    "    ct : str\n",
    "        ciphertext\n",
    "    key : list\n",
    "        permutation key\n",
    "    N : int\n",
    "        number of right rotations to apply to the key\n",
    "    \n",
    "    Returns\n",
    "    -------\n",
    "    str\n",
    "        plaintext\n",
    "    \n",
    "    '''\n",
    "    # Rotate the key\n",
    "    right_first = key[0:len(key)-N] \n",
    "    right_second = key[len(key)-N:]\n",
    "    rotated_key = right_second + right_first\n",
    "    \n",
    "    # Write the cipher text in columns \n",
    "    n_rows = len(ct)//len(key)\n",
    "    columns = [ct[i:i+n_rows] for i in range(0, len(ct), n_rows)]\n",
    "    \n",
    "    # Create the decryption table for the given key by concatenation the columns\n",
    "    table = []\n",
    "    for i in rotated_key:\n",
    "        table.append(list(columns[i-1]))\n",
    "\n",
    "    # Read the text on the table row by row\n",
    "    pt = ''\n",
    "    for i in range(n_rows):\n",
    "        for j in range(len(table)):\n",
    "            pt += str(table[j][i])\n",
    "            \n",
    "    return pt"
   ]
  },
  {
   "cell_type": "code",
   "execution_count": 3,
   "metadata": {},
   "outputs": [],
   "source": [
    "def decrypt(ct2, k1, k2): \n",
    "    ''' Decrypts the ciphertext by finding the number of rotations used to encrypt the plaintext\n",
    "    by brute-force\n",
    "    \n",
    "    Parameters\n",
    "    ----------\n",
    "    ct2 : str\n",
    "        ciphertext\n",
    "    k1 : list\n",
    "        permutation key used first to encrypt the plaintext\n",
    "    k2 : list\n",
    "        permutation key used second to encrypt the plaintext\n",
    "    \n",
    "    Returns\n",
    "    -------\n",
    "    str\n",
    "        plaintext\n",
    "    \n",
    "    '''\n",
    "    \n",
    "    # Decrypt the ciphertext by trying in a bruteforce manner all the possible key rotations;\n",
    "    # to get all the possible combinations of keys we need to try every N less than or equal\n",
    "    # to the least common multiple of the lenghts of the two keys\n",
    "    for N in range(lcm(len(k1),len(k2))):\n",
    "        \n",
    "        # Decrypts the ciphertext\n",
    "        ct1 = one_step_decrypt(ct2, k2, N)\n",
    "        pt64 = one_step_decrypt(ct1, k1, N)\n",
    "        \n",
    "        try:\n",
    "            # Converts the result back from base64 to ascii and then from ascii to string\n",
    "            pt = base64.b64decode(pt64).decode('ascii')\n",
    "            print('N={} ---> {}'.format(N, pt))\n",
    "        except:\n",
    "            # If the conversion fails, then the used combination of keys led to\n",
    "            # non-admissible plaintext\n",
    "            continue"
   ]
  },
  {
   "cell_type": "code",
   "execution_count": 4,
   "metadata": {},
   "outputs": [
    {
     "name": "stdout",
     "output_type": "stream",
     "text": [
      "Correct\n"
     ]
    }
   ],
   "source": [
    "# Test 1\n",
    "\n",
    "k1 = [4,2,3,1]\n",
    "k2 = [1,2,3] \n",
    "ct2 = '??n?aelktw o'\n",
    "\n",
    "for N in range(lcm(len(k1),len(k2))):\n",
    "    ct1 = one_step_decrypt(ct2, k2, N)\n",
    "    pt = one_step_decrypt(ct1, k1, N)\n",
    "    if pt == 'lake town???':\n",
    "        print('Correct')"
   ]
  },
  {
   "cell_type": "code",
   "execution_count": 5,
   "metadata": {},
   "outputs": [
    {
     "name": "stdout",
     "output_type": "stream",
     "text": [
      "N=5 ---> Then each unworthy ignominious fool Unmerited reflections vehement long\n",
      "N=6 ---> ent long\n",
      "Sol ---> Then each unworthy ignominious fool Unmerited reflections vehement long\n"
     ]
    }
   ],
   "source": [
    "# Test 2\n",
    "\n",
    "Q2_I=[4, 3, 12, 6, 9, 13, 2, 7, 14, 1, 8, 10, 5, 11]\n",
    "Q2_II=[2, 3, 1, 5, 4, 7, 6]\n",
    "Q2_ct=\"VoBilYIGWhblNHRGIz2ZVplb5HatZ=xG0b Wm5Ivc bz5WtbIm39apVGVGdy2hlu5d9GIndlJHkZYGmVIlx3ZXVg25JvtbwWZp\"\n",
    "Q2=\"Then each unworthy ignominious fool Unmerited reflections vehement long\"\n",
    "\n",
    "decrypt(Q2_ct, Q2_I, Q2_II)\n",
    "print('Sol --->', Q2)"
   ]
  },
  {
   "cell_type": "code",
   "execution_count": 10,
   "metadata": {},
   "outputs": [
    {
     "name": "stdout",
     "output_type": "stream",
     "text": [
      "N=3 ---> Steams from th infernal furnace hot and fierce The vile detested double-damning sin\n"
     ]
    }
   ],
   "source": [
    "# Personal parameters\n",
    "\n",
    "Q2_I=[4, 3, 14, 10, 5, 2, 7, 9, 6, 8, 1, 12, 13, 11]\n",
    "Q2_II=[6, 5, 2, 3, 4, 7, 1]\n",
    "Q2_ct=\"S5YlkXgkZZ1ZBlXglaQgWyWGRUYw03t3GRZ3yXGzZcBbYgWu2=bBjWjmb4UZJBWgm5ZGzytldIVdUFCkpbglmi3GZFaRbZsSuIBbSUGmJZaVZZon\"\n",
    "\n",
    "decrypt(Q2_ct, Q2_I, Q2_II)"
   ]
  }
 ],
 "metadata": {
  "kernelspec": {
   "display_name": "SageMath 9.1",
   "language": "sage",
   "name": "sagemath"
  },
  "language_info": {
   "codemirror_mode": {
    "name": "ipython",
    "version": 3
   },
   "file_extension": ".py",
   "mimetype": "text/x-python",
   "name": "python",
   "nbconvert_exporter": "python",
   "pygments_lexer": "ipython3",
   "version": "3.8.6"
  }
 },
 "nbformat": 4,
 "nbformat_minor": 4
}
